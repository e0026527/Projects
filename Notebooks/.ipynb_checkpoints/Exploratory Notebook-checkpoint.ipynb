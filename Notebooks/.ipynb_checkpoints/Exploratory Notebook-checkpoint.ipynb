{
 "cells": [
  {
   "cell_type": "code",
   "execution_count": 3,
   "metadata": {},
   "outputs": [],
   "source": [
    "import os\n",
    "import sys\n",
    "from pdf2docx import extract_tables, parse\n",
    "import docx2txt\n",
    "import pandas as pd \n",
    "import numpy as np"
   ]
  },
  {
   "cell_type": "code",
   "execution_count": 6,
   "metadata": {},
   "outputs": [],
   "source": [
    "path = '../PDFs/'\n",
    "pdf_list = os.listdir(path)\n",
    "pdf_list = [os.path.join(path,file) for file in pdf_list]"
   ]
  },
  {
   "cell_type": "code",
   "execution_count": 7,
   "metadata": {},
   "outputs": [],
   "source": [
    "pdf_file = pdf_list[0]"
   ]
  },
  {
   "cell_type": "code",
   "execution_count": 8,
   "metadata": {},
   "outputs": [
    {
     "name": "stdout",
     "output_type": "stream",
     "text": [
      "Processing Pages: 1/2...\n",
      "Processing Pages: 2/2...\n",
      "[[' Number of Coils     ', '    Number of Paperclips'], ['5 ', '3, 5, 4'], [' 10 ', '       7, 8, 6'], [' 15 ', ' \\n11, 10, 12'], [' 20 ', ' \\n15, 13, 14']]\n",
      "[['Speed (mph)', 'Driver', 'Car', 'Engine', 'Date'], ['407.447', 'Craig Breedlove', 'Spirit of America ', 'GE J47', '8/5/63'], ['413.199', 'Tom Green ', 'Wingfoot Express ', 'WE J46  ', '10/2/64'], ['434.22', 'Art Arfons', 'Green Monster ', 'GE J79 ', '10/5/64'], ['468.719', 'Craig Breedlove', 'Spirit of America', 'GE J79 ', '10/13/64'], ['526.277', 'Craig Breedlove', 'Spirit of America', 'GE J79 ', '10/15/65'], ['536.712', 'Art Arfons', 'Green Monster ', 'GE J79  ', '10/27/65'], ['555.127', 'Craig Breedlove', 'Spirit of America, Sonic 1 ', 'GE J79 ', '11/2/65 '], ['576.553', 'Art Arfons', 'Green Monster ', 'GE J79 ', '11/7/65 '], ['600.601', 'Craig Breedlove', 'Spirit of America, Sonic 1', 'GE J79 ', '11/15/65 '], ['622.407', 'Gary Gabelich', 'Blue Flame ', 'Rocket ', '10/23/70  '], ['633.468', 'Richard Noble ', 'Thrust 2 ', 'RR RG 146 ', '10/4/83  '], ['763.035', 'Andy Green', 'Thrust SSC', 'RR Spey', '10/15/97'], [None, None, None, None, '']]\n",
      "[['  Time (drops of water)   ', '        Distance (cm)'], [' \\n1 ', ' 10,11,9'], [' \\n2 ', ' 29, 31, 30'], [' \\n3 ', ' 59, 58, 61'], [' \\n4 ', ' 102, 100, 98'], [' \\n5 ', ' 122, 125, 127 ']]\n"
     ]
    }
   ],
   "source": [
    "tables = extract_tables(pdf_file)\n",
    "\n",
    "for table in tables:\n",
    "    print(table)"
   ]
  },
  {
   "cell_type": "code",
   "execution_count": 9,
   "metadata": {},
   "outputs": [
    {
     "ename": "SyntaxError",
     "evalue": "invalid syntax (<ipython-input-9-d9617030d351>, line 1)",
     "output_type": "error",
     "traceback": [
      "\u001b[1;36m  File \u001b[1;32m\"<ipython-input-9-d9617030d351>\"\u001b[1;36m, line \u001b[1;32m1\u001b[0m\n\u001b[1;33m    for table in\u001b[0m\n\u001b[1;37m                 ^\u001b[0m\n\u001b[1;31mSyntaxError\u001b[0m\u001b[1;31m:\u001b[0m invalid syntax\n"
     ]
    }
   ],
   "source": [
    "for table in \n",
    "tables[0]"
   ]
  },
  {
   "cell_type": "code",
   "execution_count": 14,
   "metadata": {},
   "outputs": [
    {
     "data": {
      "text/html": [
       "<div>\n",
       "<style scoped>\n",
       "    .dataframe tbody tr th:only-of-type {\n",
       "        vertical-align: middle;\n",
       "    }\n",
       "\n",
       "    .dataframe tbody tr th {\n",
       "        vertical-align: top;\n",
       "    }\n",
       "\n",
       "    .dataframe thead th {\n",
       "        text-align: right;\n",
       "    }\n",
       "</style>\n",
       "<table border=\"1\" class=\"dataframe\">\n",
       "  <thead>\n",
       "    <tr style=\"text-align: right;\">\n",
       "      <th></th>\n",
       "      <th>Number of Coils</th>\n",
       "      <th>Number of Paperclips</th>\n",
       "    </tr>\n",
       "  </thead>\n",
       "  <tbody>\n",
       "    <tr>\n",
       "      <th>1</th>\n",
       "      <td>5</td>\n",
       "      <td>3, 5, 4</td>\n",
       "    </tr>\n",
       "    <tr>\n",
       "      <th>2</th>\n",
       "      <td>10</td>\n",
       "      <td>7, 8, 6</td>\n",
       "    </tr>\n",
       "    <tr>\n",
       "      <th>3</th>\n",
       "      <td>15</td>\n",
       "      <td>\\n11, 10, 12</td>\n",
       "    </tr>\n",
       "    <tr>\n",
       "      <th>4</th>\n",
       "      <td>20</td>\n",
       "      <td>\\n15, 13, 14</td>\n",
       "    </tr>\n",
       "  </tbody>\n",
       "</table>\n",
       "</div>"
      ],
      "text/plain": [
       "0  Number of Coils          Number of Paperclips\n",
       "1                    5                   3, 5, 4\n",
       "2                   10                   7, 8, 6\n",
       "3                   15              \\n11, 10, 12\n",
       "4                   20              \\n15, 13, 14"
      ]
     },
     "execution_count": 14,
     "metadata": {},
     "output_type": "execute_result"
    }
   ],
   "source": [
    "df = pd.DataFrame.from_records(tables[0])\n",
    "df.columns = df.iloc[0]\n",
    "df = df[1:]\n",
    "df"
   ]
  },
  {
   "cell_type": "code",
   "execution_count": null,
   "metadata": {},
   "outputs": [],
   "source": []
  }
 ],
 "metadata": {
  "kernelspec": {
   "display_name": "Python 3",
   "language": "python",
   "name": "python3"
  },
  "language_info": {
   "codemirror_mode": {
    "name": "ipython",
    "version": 3
   },
   "file_extension": ".py",
   "mimetype": "text/x-python",
   "name": "python",
   "nbconvert_exporter": "python",
   "pygments_lexer": "ipython3",
   "version": "3.7.4"
  }
 },
 "nbformat": 4,
 "nbformat_minor": 4
}
