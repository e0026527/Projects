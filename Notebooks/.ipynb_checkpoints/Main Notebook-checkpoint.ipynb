{
 "cells": [
  {
   "cell_type": "code",
   "execution_count": 1,
   "metadata": {},
   "outputs": [],
   "source": [
    "import sys\n",
    "sys.path.append('../Src')\n",
    "import extract_table"
   ]
  },
  {
   "cell_type": "code",
   "execution_count": 2,
   "metadata": {},
   "outputs": [],
   "source": [
    "pdf_path = '..\\\\PDFs\\\\'\n",
    "docx_path ='..\\\\Docx\\\\'\n",
    "csv_path ='..\\\\CSV tables\\\\'\n",
    "output_path = '..\\\\Output\\\\'\n",
    "\n",
    "pdf_list = extract_table.path_list('../PDFs/')\n",
    "docx_list = extract_table.path_list('../Docx/')"
   ]
  },
  {
   "cell_type": "code",
   "execution_count": 3,
   "metadata": {},
   "outputs": [
    {
     "name": "stdout",
     "output_type": "stream",
     "text": [
      "Processing Pages: 2/2...\n",
      "--------------------------------------------------\n",
      "Terminated in 0.698507s.\n",
      "Processing Pages: 1/2...\n",
      "Processing Pages: 2/2...\n"
     ]
    }
   ],
   "source": [
    "extract_table.extract_docx(pdf_list,docx_path)\n",
    "extract_table.extract_table(pdf_list,csv_path)\n",
    "extract_table.extract_text(docx_list,output_path)"
   ]
  },
  {
   "cell_type": "code",
   "execution_count": null,
   "metadata": {},
   "outputs": [],
   "source": []
  }
 ],
 "metadata": {
  "kernelspec": {
   "display_name": "Python 3",
   "language": "python",
   "name": "python3"
  },
  "language_info": {
   "codemirror_mode": {
    "name": "ipython",
    "version": 3
   },
   "file_extension": ".py",
   "mimetype": "text/x-python",
   "name": "python",
   "nbconvert_exporter": "python",
   "pygments_lexer": "ipython3",
   "version": "3.7.4"
  }
 },
 "nbformat": 4,
 "nbformat_minor": 4
}
